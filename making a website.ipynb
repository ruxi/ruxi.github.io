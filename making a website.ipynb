{
 "cells": [
  {
   "cell_type": "code",
   "execution_count": 35,
   "metadata": {
    "collapsed": false
   },
   "outputs": [
    {
     "name": "stdout",
     "output_type": "stream",
     "text": [
      "Overwriting index.html\n"
     ]
    }
   ],
   "source": [
    "%%writefile index.html\n",
    "\n",
    "<!DOCTYPE html>\n",
    "<html>\n",
    "\t<head>\n",
    "\t\t<title>Ruxi</title>\n",
    "\t</head>\n",
    "\t<body>\n",
    "\n",
    "    <h1> Welcome </h1> \n",
    "    \n",
    "    <body>\n",
    "    <p>The intent of this blog is to document attempts to <b>do stuff</b>&trade; </p>\n",
    "    \n",
    "    More specially, learning HTML, CSS and javascript with my nephew following\n",
    "    <a href='http://codeacademy.com'>codeacademy</a> excercises\n",
    "    \n",
    "    \n",
    "    \n",
    "   \n",
    "    \n",
    "\t</body>\n",
    "</html>"
   ]
  },
  {
   "cell_type": "code",
   "execution_count": 36,
   "metadata": {
    "collapsed": false
   },
   "outputs": [
    {
     "data": {
      "text/html": [
       "\n",
       "<!DOCTYPE html>\n",
       "<html>\n",
       "\t<head>\n",
       "\t\t<title>Ruxi</title>\n",
       "\t</head>\n",
       "\t<body>\n",
       "\n",
       "    <h1> Welcome </h1> \n",
       "    \n",
       "    <body>\n",
       "    <p>The intent of this blog is to document attempts to <b>do stuff</b>&trade; </p>\n",
       "    \n",
       "    More specially, learning HTML, CSS and javascript with my nephew following\n",
       "    <a href='http://codeacademy.com'>codeacademy</a> excercises\n",
       "    \n",
       "    \n",
       "    \n",
       "   \n",
       "    \n",
       "\t</body>\n",
       "</html>"
      ],
      "text/plain": [
       "<IPython.core.display.HTML object>"
      ]
     },
     "execution_count": 36,
     "metadata": {},
     "output_type": "execute_result"
    }
   ],
   "source": [
    "from IPython.display import HTML\n",
    "HTML('index.html')"
   ]
  },
  {
   "cell_type": "code",
   "execution_count": 2,
   "metadata": {
    "collapsed": false
   },
   "outputs": [
    {
     "name": "stdout",
     "output_type": "stream",
     "text": [
      "[master 623d734] save\n",
      " 3 files changed, 89 insertions(+), 4 deletions(-)\n"
     ]
    },
    {
     "name": "stderr",
     "output_type": "stream",
     "text": [
      "Warning: Permanently added the RSA host key for IP address '192.30.252.131' to the list of known hosts.\r\n",
      "To git@github.com:ruxi/ruxi.github.io.git\n",
      "   65791d2..623d734  master -> master\n"
     ]
    }
   ],
   "source": [
    "%%bash \n",
    "git add --all :/\n",
    "git commit -a -m 'save'\n",
    "git push origin master"
   ]
  },
  {
   "cell_type": "markdown",
   "metadata": {},
   "source": [
    "http://ruxi.github.io"
   ]
  }
 ],
 "metadata": {
  "kernelspec": {
   "display_name": "Python3.4",
   "language": "python",
   "name": "python3.4"
  },
  "language_info": {
   "codemirror_mode": {
    "name": "ipython",
    "version": 3
   },
   "file_extension": ".py",
   "mimetype": "text/x-python",
   "name": "python",
   "nbconvert_exporter": "python",
   "pygments_lexer": "ipython3",
   "version": "3.4.3"
  }
 },
 "nbformat": 4,
 "nbformat_minor": 0
}
