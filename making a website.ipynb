{
 "cells": [
  {
   "cell_type": "code",
   "execution_count": 53,
   "metadata": {
    "collapsed": false
   },
   "outputs": [
    {
     "name": "stdout",
     "output_type": "stream",
     "text": [
      "Overwriting index.html\n"
     ]
    }
   ],
   "source": [
    "%%writefile index.html\n",
    "\n",
    "<!DOCTYPE html>\n",
    "<html>\n",
    "\t<head>\n",
    "\t\t<title>Ruxi</title>\n",
    "\t</head>\n",
    "\t<body>\n",
    "\n",
    "    <h1> Welcome </h1> \n",
    "    \n",
    "    <body>\n",
    "    <p>The intent of this blog is to document attempts to <b>do stuff</b>&trade; </p>\n",
    "    \n",
    "    More specially, learning HTML, CSS and javascript with my nephew following\n",
    "    <a href='http://codeacademy.com'>codeacademy</a> excercises\n",
    "    \n",
    "    <br><br>\n",
    "    \n",
    "    <h1> Tasks </h1>\n",
    "    <ul>\n",
    "        <li> get markdown support\n",
    "        <li> get blogging format \n",
    "        <li> plan: try jekyll. tutorials for future reference: <br>\n",
    "    <a href='https://www.smashingmagazine.com/2014/08/build-blog-jekyll-github-pages/'>\n",
    "    how to build a blog using jekyll for github pages guide</a>\n",
    "        \n",
    "    <ul>\n",
    "    \n",
    "    \n",
    "   \n",
    "    \n",
    "\t</body>\n",
    "</html>"
   ]
  },
  {
   "cell_type": "code",
   "execution_count": 54,
   "metadata": {
    "collapsed": false
   },
   "outputs": [
    {
     "data": {
      "text/html": [
       "\n",
       "<!DOCTYPE html>\n",
       "<html>\n",
       "\t<head>\n",
       "\t\t<title>Ruxi</title>\n",
       "\t</head>\n",
       "\t<body>\n",
       "\n",
       "    <h1> Welcome </h1> \n",
       "    \n",
       "    <body>\n",
       "    <p>The intent of this blog is to document attempts to <b>do stuff</b>&trade; </p>\n",
       "    \n",
       "    More specially, learning HTML, CSS and javascript with my nephew following\n",
       "    <a href='http://codeacademy.com'>codeacademy</a> excercises\n",
       "    \n",
       "    <br><br>\n",
       "    \n",
       "    <h1> Tasks </h1>\n",
       "    <ul>\n",
       "        <li> get markdown support\n",
       "        <li> get blogging format \n",
       "        <li> plan: try jekyll. tutorials for future reference: <br>\n",
       "    <a href='https://www.smashingmagazine.com/2014/08/build-blog-jekyll-github-pages/'>\n",
       "    how to build a blog using jekyll for github pages guide</a>\n",
       "        \n",
       "    <ul>\n",
       "    \n",
       "    \n",
       "   \n",
       "    \n",
       "\t</body>\n",
       "</html>"
      ],
      "text/plain": [
       "<IPython.core.display.HTML object>"
      ]
     },
     "execution_count": 54,
     "metadata": {},
     "output_type": "execute_result"
    }
   ],
   "source": [
    "from IPython.display import HTML\n",
    "HTML('index.html')"
   ]
  },
  {
   "cell_type": "code",
   "execution_count": 55,
   "metadata": {
    "collapsed": false
   },
   "outputs": [
    {
     "name": "stdout",
     "output_type": "stream",
     "text": [
      "[master a35b542] save\n",
      " 2 files changed, 36 insertions(+), 8 deletions(-)\n"
     ]
    },
    {
     "name": "stderr",
     "output_type": "stream",
     "text": [
      "To git@github.com:ruxi/ruxi.github.io.git\n",
      "   0d91a01..a35b542  master -> master\n"
     ]
    }
   ],
   "source": [
    "%%bash \n",
    "git add --all :/\n",
    "git commit -a -m 'save'\n",
    "git push origin master"
   ]
  },
  {
   "cell_type": "markdown",
   "metadata": {},
   "source": [
    "http://ruxi.github.io"
   ]
  }
 ],
 "metadata": {
  "kernelspec": {
   "display_name": "Python3.4",
   "language": "python",
   "name": "python3.4"
  },
  "language_info": {
   "codemirror_mode": {
    "name": "ipython",
    "version": 3
   },
   "file_extension": ".py",
   "mimetype": "text/x-python",
   "name": "python",
   "nbconvert_exporter": "python",
   "pygments_lexer": "ipython3",
   "version": "3.4.3"
  }
 },
 "nbformat": 4,
 "nbformat_minor": 0
}
