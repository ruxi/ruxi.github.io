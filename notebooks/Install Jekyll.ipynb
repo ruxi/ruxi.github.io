{
 "cells": [
  {
   "cell_type": "code",
   "execution_count": 1,
   "metadata": {
    "collapsed": false
   },
   "outputs": [
    {
     "name": "stdout",
     "output_type": "stream",
     "text": [
      "Mon Feb  8 01:52:35 CST 2016\r\n"
     ]
    }
   ],
   "source": [
    "!date #last update"
   ]
  },
  {
   "cell_type": "markdown",
   "metadata": {},
   "source": [
    "Required:"
   ]
  },
  {
   "cell_type": "code",
   "execution_count": null,
   "metadata": {
    "collapsed": false
   },
   "outputs": [],
   "source": [
    "import os.path, gitpath #pip install git+'https://github.com/ruxi/python-gitpath.git'\n",
    "os.chdir(gitpath.root()) # changes path to .git root\n",
    "#os.getcwd() #check current work directory"
   ]
  },
  {
   "cell_type": "markdown",
   "metadata": {},
   "source": [
    "# Install Jekyll"
   ]
  },
  {
   "cell_type": "markdown",
   "metadata": {},
   "source": [
    "by Ruxi\n",
    "\n",
    "Feb 8, 2016"
   ]
  },
  {
   "cell_type": "markdown",
   "metadata": {},
   "source": [
    "What is [Jekyll](http://jekyllrb.com/docs/installation/)? Its a static templating library enables blogging on github pages\n",
    "\n",
    "It follows this directory structure"
   ]
  },
  {
   "cell_type": "code",
   "execution_count": 4,
   "metadata": {
    "collapsed": false
   },
   "outputs": [
    {
     "data": {
      "text/html": [
       "\n",
       "        <iframe\n",
       "            width=\"300\"\n",
       "            height=\"400\"\n",
       "            src=\"http://jekyllrb.com/docs/structure/\"\n",
       "            frameborder=\"0\"\n",
       "            allowfullscreen\n",
       "        ></iframe>\n",
       "        "
      ],
      "text/plain": [
       "<IPython.lib.display.IFrame at 0x7f0c4c230320>"
      ]
     },
     "execution_count": 4,
     "metadata": {},
     "output_type": "execute_result"
    }
   ],
   "source": [
    "from IPython.display import IFrame\n",
    "url = 'http://jekyllrb.com/docs/structure/'\n",
    "IFrame(url, width=300, height=400)\n"
   ]
  },
  {
   "cell_type": "markdown",
   "metadata": {},
   "source": [
    "# Instructions"
   ]
  },
  {
   "cell_type": "markdown",
   "metadata": {
    "collapsed": true
   },
   "source": [
    "http://michaelchelen.net/81fa/install-jekyll-2-ubuntu-14-04/"
   ]
  },
  {
   "cell_type": "markdown",
   "metadata": {},
   "source": [
    "> sudo apt-get install ruby ruby-dev make gcc nodejs"
   ]
  },
  {
   "cell_type": "markdown",
   "metadata": {},
   "source": [
    "#### (1) .gitignore \\_\\_sites"
   ]
  },
  {
   "cell_type": "code",
   "execution_count": 55,
   "metadata": {
    "collapsed": false
   },
   "outputs": [
    {
     "name": "stdout",
     "output_type": "stream",
     "text": [
      "Found:\t\"_sites\"\tmoving to next\n"
     ]
    }
   ],
   "source": [
    "# write files to .gitignore if not exist\n",
    "with open('.gitignore', 'r+') as f:\n",
    "    ignorelist = ['_sites']\n",
    "    for path in ignorelist:\n",
    "        if path in f.read():\n",
    "            print('Found:\\t\"{}\"\\tmoving to next'.format(path))\n",
    "        else:\n",
    "            print('Not found:\\t\"{}\"\\twriting to file'.format(path))\n",
    "            f.writelines(\"{}\\n\".format(path))"
   ]
  },
  {
   "cell_type": "code",
   "execution_count": 60,
   "metadata": {
    "collapsed": false
   },
   "outputs": [
    {
     "name": "stdout",
     "output_type": "stream",
     "text": [
      "_sites\r\n"
     ]
    }
   ],
   "source": [
    "!cat .gitignore"
   ]
  },
  {
   "cell_type": "markdown",
   "metadata": {},
   "source": [
    "### (2) _config.yml"
   ]
  },
  {
   "cell_type": "code",
   "execution_count": null,
   "metadata": {
    "collapsed": true
   },
   "outputs": [],
   "source": [
    "%%writefile _config.yml\n",
    "name: Ruxi\n",
    "markdown:"
   ]
  },
  {
   "cell_type": "code",
   "execution_count": null,
   "metadata": {
    "collapsed": true
   },
   "outputs": [],
   "source": [
    "Apprently karmdown is the only flavor of "
   ]
  },
  {
   "cell_type": "markdown",
   "metadata": {
    "collapsed": true
   },
   "source": [
    "# Version control"
   ]
  },
  {
   "cell_type": "markdown",
   "metadata": {},
   "source": [
    "Saving"
   ]
  },
  {
   "cell_type": "code",
   "execution_count": 57,
   "metadata": {
    "collapsed": false
   },
   "outputs": [],
   "source": [
    "py_commit_msg = \"\"\"\n",
    "write code cell to add file to .gitignore if not found\n",
    "\"\"\""
   ]
  },
  {
   "cell_type": "code",
   "execution_count": 58,
   "metadata": {
    "collapsed": false
   },
   "outputs": [
    {
     "name": "stdout",
     "output_type": "stream",
     "text": [
      "write code cell to add file to .gitignore if not found\n",
      "[master a370bf0] write code cell to add file to .gitignore if not found\n",
      " 6 files changed, 546 insertions(+), 134 deletions(-)\n",
      " delete mode 100644 .ipynb_checkpoints/Jekyll installation-checkpoint.ipynb\n",
      " delete mode 100644 Jekyll installation.ipynb\n",
      " create mode 100644 notebooks/.gitignore\n",
      " create mode 100644 notebooks/.ipynb_checkpoints/Install Jekyll-checkpoint.ipynb\n",
      " create mode 100644 notebooks/Install Jekyll.ipynb\n"
     ]
    },
    {
     "name": "stderr",
     "output_type": "stream",
     "text": [
      "To git@github.com:ruxi/ruxi.github.io.git\n",
      "   1e560fa..a370bf0  master -> master\n"
     ]
    }
   ],
   "source": [
    "%%bash -s \"$py_commit_msg\"\n",
    "echo $1\n",
    "git add --all :/\n",
    "git commit -a -m \"$1\" #message from py_commit_msg\n",
    "git push origin master"
   ]
  },
  {
   "cell_type": "markdown",
   "metadata": {},
   "source": [
    "http://github.com/ruxi/ruxi.github.io"
   ]
  },
  {
   "cell_type": "markdown",
   "metadata": {},
   "source": [
    "Pulling"
   ]
  },
  {
   "cell_type": "markdown",
   "metadata": {},
   "source": [
    "```bash\n",
    "git fetch --all\n",
    "git pull origin master\n",
    "```"
   ]
  },
  {
   "cell_type": "code",
   "execution_count": null,
   "metadata": {
    "collapsed": true
   },
   "outputs": [],
   "source": []
  }
 ],
 "metadata": {
  "kernelspec": {
   "display_name": "Python3.4",
   "language": "python",
   "name": "python3.4"
  },
  "language_info": {
   "codemirror_mode": {
    "name": "ipython",
    "version": 3
   },
   "file_extension": ".py",
   "mimetype": "text/x-python",
   "name": "python",
   "nbconvert_exporter": "python",
   "pygments_lexer": "ipython3",
   "version": "3.4.3"
  }
 },
 "nbformat": 4,
 "nbformat_minor": 0
}
