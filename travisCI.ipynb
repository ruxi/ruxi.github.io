{
 "cells": [
  {
   "cell_type": "code",
   "execution_count": 2,
   "metadata": {
    "collapsed": false
   },
   "outputs": [
    {
     "name": "stdout",
     "output_type": "stream",
     "text": [
      "Writing .travis.yml\n"
     ]
    }
   ],
   "source": [
    "%%writefile .travis.yml\n",
    "\n",
    "language: python\n",
    "python:\n",
    "  - \"2.6\"\n",
    "  - \"2.7\"\n",
    "  - \"3.2\"\n",
    "  - \"3.3\"\n",
    "  - \"3.4\"\n",
    "  - \"3.5\"\n",
    "  - \"3.5-dev\" # 3.5 development branch\n",
    "  - \"nightly\" # currently points to 3.6-dev\n",
    "# command to install dependencies\n",
    "install: \"pip install -r requirements.txt\"\n",
    "# command to run tests\n",
    "script: nosetests"
   ]
  },
  {
   "cell_type": "code",
   "execution_count": null,
   "metadata": {
    "collapsed": true
   },
   "outputs": [],
   "source": []
  },
  {
   "cell_type": "markdown",
   "metadata": {},
   "source": [
    "https://travis-ci.org/getting_started"
   ]
  },
  {
   "cell_type": "code",
   "execution_count": 9,
   "metadata": {
    "collapsed": false
   },
   "outputs": [
    {
     "name": "stdout",
     "output_type": "stream",
     "text": [
      "On branch master\n",
      "nothing to commit, working directory clean\n"
     ]
    },
    {
     "name": "stderr",
     "output_type": "stream",
     "text": [
      "To git@github.com:ruxi/ruxi.github.io.git\n",
      "   fe3cac6..2a40ffa  master -> master\n"
     ]
    }
   ],
   "source": [
    "%%bash\n",
    "git add --all :/\n",
    "git commit -a -m 'test build'\n",
    "git push origin master"
   ]
  },
  {
   "cell_type": "markdown",
   "metadata": {},
   "source": [
    "https://github.com/ruxi/ruxi.github.io"
   ]
  },
  {
   "cell_type": "code",
   "execution_count": null,
   "metadata": {
    "collapsed": true
   },
   "outputs": [],
   "source": []
  }
 ],
 "metadata": {
  "kernelspec": {
   "display_name": "Python3.4",
   "language": "python",
   "name": "python3.4"
  },
  "language_info": {
   "codemirror_mode": {
    "name": "ipython",
    "version": 3
   },
   "file_extension": ".py",
   "mimetype": "text/x-python",
   "name": "python",
   "nbconvert_exporter": "python",
   "pygments_lexer": "ipython3",
   "version": "3.4.3"
  }
 },
 "nbformat": 4,
 "nbformat_minor": 0
}
